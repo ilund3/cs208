{
  "cells": [
    {
      "cell_type": "markdown",
      "metadata": {
        "id": "XbYvg1469NgJ"
      },
      "source": [
        "# Demonstrate membership inference attacks on means by test statistics"
      ]
    },
    {
      "cell_type": "markdown",
      "metadata": {
        "id": "lUNnkJeV9NgK"
      },
      "source": [
        "## Tuneable simulation parameters"
      ]
    },
    {
      "cell_type": "code",
      "execution_count": null,
      "metadata": {
        "allow_embed": "code_output",
        "cell_id": "5e4e267f-64c9-4a0d-833f-b7276904f6ff",
        "deepnote_cell_type": "code",
        "deepnote_output_heights": [
          null,
          254
        ],
        "deepnote_to_be_reexecuted": false,
        "execution_millis": 1110,
        "execution_start": 1643863648405,
        "source_hash": "3c70c202",
        "tags": [],
        "id": "fs8oxMEk9NgK"
      },
      "outputs": [],
      "source": [
        "import numpy as np\n",
        "from scipy import stats\n",
        "import math\n",
        "np.random.seed(123)\n",
        "\n",
        "## PARAMETERS\n",
        "n_sims = 10000\n",
        "n_samples = 10\n",
        "k_att = 100"
      ]
    },
    {
      "cell_type": "markdown",
      "metadata": {
        "id": "-atYGJWy9NgL"
      },
      "source": [
        "## Define utility functions for simulating data and calculating the test statistics"
      ]
    },
    {
      "cell_type": "code",
      "execution_count": null,
      "metadata": {
        "cell_id": "4f517e7a-af70-48f4-95dc-2c6792502fb2",
        "deepnote_cell_type": "code",
        "deepnote_to_be_reexecuted": false,
        "execution_millis": 10,
        "execution_start": 1643863649532,
        "source_hash": "f6dabd04",
        "tags": [],
        "id": "EqAOPMfe9NgL"
      },
      "outputs": [],
      "source": [
        "def synthesize(population_prob, n=1):\n",
        "    \"\"\"Utility function to simulate sampling from a population.\n",
        "    Each column is sampled with the coin-flip probability defined in population_prob.\"\"\"\n",
        "    x = np.random.binomial(n=1, p=population_prob, size=(n, len(population_prob)))\n",
        "    #x[x == 0] = -1  # Sometimes it is convenient in ML to recode as {-1,1}\n",
        "    return x\n",
        "\n",
        "\n",
        "## TEST STATISTICS\n",
        "def test_homer(alice, sample_mean, population_mean):\n",
        "    \"\"\"Calculates the Homer test statistic\"\"\"\n",
        "    test_statistic = 1 #fix this\n",
        "    return test_statistic\n",
        "\n",
        "\n",
        "def test_dwork(alice, sample_mean, population_mean):\n",
        "    \"\"\"Calculates the Dwork et al. test statistic using the population means\n",
        "    Let `population_mean=referent` if using only a single individual from the population as a referent.\n",
        "    \"\"\"\n",
        "    # We constructed this in class:\n",
        "    test_statistic = 1 #fix this\n",
        "    return test_statistic\n",
        "\n",
        "\n",
        "def h0_distribution(fun, population_prob, population_mean, dist_sims=1000, alpha=0.05):\n",
        "    \"\"\"Simulates the sampling distribution under H_0 hypothesis\"\"\"\n",
        "    # An h_0 distribution and critical value generator\n",
        "    hold = []\n",
        "\n",
        "    for i in range(dist_sims):\n",
        "        sample_mean = synthesize(population_prob, n=n_samples).mean(axis=0)\n",
        "        null_alice = synthesize(population_prob)[0]\n",
        "        # referent = synthesize(population_prob)[0]\n",
        "\n",
        "        hold.append(fun(null_alice, sample_mean, population_mean))\n",
        "\n",
        "    null_dist_vals = np.sort(hold)[::-1]\n",
        "    return {\n",
        "        \"nulldist\": null_dist_vals,\n",
        "        \"critical_val\": null_dist_vals[round(alpha * dist_sims)] # We constructed this in class\n",
        "    }"
      ]
    },
    {
      "cell_type": "markdown",
      "metadata": {
        "id": "pwjQbkSH9NgL"
      },
      "source": [
        "## Simple graph function for showing the distribution, partitioned by critical value"
      ]
    },
    {
      "cell_type": "code",
      "execution_count": null,
      "metadata": {
        "cell_id": "6562d03c-443e-49e7-9f19-ddce57f41b0d",
        "deepnote_cell_type": "code",
        "deepnote_to_be_reexecuted": false,
        "execution_millis": 2702,
        "execution_start": 1643863649564,
        "source_hash": "1ce72994",
        "tags": [],
        "id": "bCh1R1919NgL"
      },
      "outputs": [],
      "source": [
        "import matplotlib.pyplot as plt\n",
        "\n",
        "\n",
        "def show_distribution(x, critical_value, title):\n",
        "    \"\"\"Visualize the distribution with a density plot\"\"\"\n",
        "\n",
        "    # https://docs.scipy.org/doc/scipy/reference/generated/scipy.stats.gaussian_kde.html\n",
        "    kernel = stats.gaussian_kde(x)\n",
        "    support = np.linspace(min(x) - kernel.factor, max(x) + kernel.factor, num=500)\n",
        "    densities = kernel(support)\n",
        "\n",
        "    flag = support < critical_value\n",
        "    max_density = max(densities)\n",
        "\n",
        "    plt.fill_between(support[flag], densities[flag], color='#005aef80')\n",
        "    plt.fill_between(support[~flag], densities[~flag], color='#ef5c0080')\n",
        "    plt.axvline(x=critical_value)\n",
        "    plt.text(x=critical_value, y=0.8*max_density, s=\" IN\", horizontalalignment='left')\n",
        "    plt.text(x=critical_value, y=0.8*max_density, s=\"OUT \", horizontalalignment='right')\n",
        "    plt.text(x=critical_value, y=0.7*max_density, s=f' {(x > critical_value).mean():.2}', horizontalalignment='left')\n",
        "    plt.title(title)\n",
        "    plt.xlabel(\"Test Statistic\")\n",
        "    plt.ylabel(\"Density\")\n",
        "    plt.show()"
      ]
    },
    {
      "cell_type": "markdown",
      "metadata": {
        "id": "AtrJZAUW9NgL"
      },
      "source": [
        "## Simulate and graph the H_0 distribution"
      ]
    },
    {
      "cell_type": "code",
      "execution_count": null,
      "metadata": {
        "cell_id": "3f21664a-836f-44b0-a152-1f6c7ae368d8",
        "deepnote_cell_type": "code",
        "deepnote_output_heights": [
          280,
          250
        ],
        "deepnote_to_be_reexecuted": false,
        "execution_millis": 942,
        "execution_start": 1643863652280,
        "source_hash": "81a94149",
        "tags": [],
        "id": "nZ9POohL9NgL"
      },
      "outputs": [],
      "source": [
        "# Generate underlying population attributes\n",
        "population_prob = np.random.uniform(size=k_att)\n",
        "population_mean = population_prob\n",
        "# population_mean = 2*population_prob - 1.  # If we are recoding to {-1,1} in next function\n",
        "\n",
        "# Find the null distribution\n",
        "output = h0_distribution(test_dwork, population_prob, population_mean)\n",
        "testdist = output[\"nulldist\"]\n",
        "criticalValue = output[\"critical_val\"]\n",
        "show_distribution(testdist, criticalValue, title=\"H_0 Distribution with Critical Value\")\n",
        "plt.show()"
      ]
    },
    {
      "cell_type": "markdown",
      "metadata": {
        "id": "K-3AQfmP9NgM"
      },
      "source": [
        "## Here is our core simulation.  We are going to iterate across datasets, calculate the discrimination of the test statistic among observations in the private data and the null population."
      ]
    },
    {
      "cell_type": "code",
      "execution_count": null,
      "metadata": {
        "cell_id": "4b7a854e-d296-4560-bce3-7667622a4b09",
        "deepnote_cell_type": "code",
        "deepnote_output_heights": [
          40
        ],
        "deepnote_to_be_reexecuted": false,
        "execution_millis": 7154,
        "execution_start": 1643863653220,
        "source_hash": "2d67ae45",
        "tags": [],
        "id": "AGOxyz5J9NgM"
      },
      "outputs": [],
      "source": [
        "## SIMULATE\n",
        "\n",
        "# of length n_sims, with 4 values in each\n",
        "history = np.zeros(shape=(n_sims, 4))\n",
        "\n",
        "alpha = 0.01\n",
        "# Find null distributions\n",
        "h0Dist_Homer = h0_distribution(test_homer, population_prob, population_mean, alpha=alpha)\n",
        "h0Dist_Dwork = h0_distribution(test_dwork, population_prob, population_mean, alpha=alpha)\n",
        "\n",
        "for i in range(n_sims):\n",
        "    # Simulate data\n",
        "    sample = synthesize(population_prob, n=n_samples)\n",
        "    sample_mean = sample.mean(axis=0)\n",
        "    alice = sample[0]\n",
        "    h0_alice = synthesize(population_prob, n=1)[0]\n",
        "    # referent = synthesize(population_prob, n=1)[0]\n",
        "\n",
        "    # Store simulated values\n",
        "    history[i, :] = [\n",
        "        # homer statistics\n",
        "        test_homer(alice=alice, sample_mean=sample_mean, population_mean=population_mean),\n",
        "        test_homer(alice=h0_alice, sample_mean=sample_mean, population_mean=population_mean),\n",
        "\n",
        "        # dwork statistics\n",
        "        test_dwork(alice=alice, sample_mean=sample_mean, population_mean=population_mean),\n",
        "        test_dwork(alice=h0_alice, sample_mean=sample_mean, population_mean=population_mean)\n",
        "    ]"
      ]
    },
    {
      "cell_type": "code",
      "execution_count": null,
      "metadata": {
        "cell_id": "06d58b2c-14ba-445b-912d-b5d88c0ac4a9",
        "deepnote_cell_type": "code",
        "deepnote_output_heights": [
          280,
          280,
          280,
          280
        ],
        "deepnote_to_be_reexecuted": false,
        "execution_millis": 1450,
        "execution_start": 1643863660527,
        "source_hash": "fb650849",
        "tags": [],
        "id": "fzVn_Njp9NgM"
      },
      "outputs": [],
      "source": [
        "show_distribution(history[:, 2], critical_value=h0Dist_Dwork[\"critical_val\"], title=\"Dwork H_1: Alice in Data\")\n",
        "show_distribution(history[:, 3], critical_value=h0Dist_Dwork[\"critical_val\"], title=\"Dwork H_0: Alice not in Data\")\n"
      ]
    },
    {
      "cell_type": "markdown",
      "metadata": {
        "id": "I5WGQ41z9NgM"
      },
      "source": [
        "## We can expand this simulation by iterating across the number of features available"
      ]
    },
    {
      "cell_type": "code",
      "execution_count": null,
      "metadata": {
        "cell_id": "65fa7ce3-dddd-433d-b126-2d31c78fa275",
        "deepnote_cell_type": "code",
        "deepnote_output_heights": [
          192,
          325
        ],
        "deepnote_to_be_reexecuted": false,
        "execution_millis": 125096,
        "execution_start": 1643863661991,
        "source_hash": "a66c54b9",
        "tags": [],
        "colab": {
          "base_uri": "https://localhost:8080/"
        },
        "id": "6sVyqo0U9NgM",
        "outputId": "76005eee-d147-483f-d620-1602d68d81d5"
      },
      "outputs": [
        {
          "output_type": "stream",
          "name": "stdout",
          "text": [
            "[  5   6   9  13  18  25  35  49  69  96 134 186 258 359 499]\n",
            "1 of 15: 5\n",
            "2 of 15: 6\n",
            "3 of 15: 9\n",
            "4 of 15: 13\n",
            "5 of 15: 18\n",
            "6 of 15: 25\n",
            "7 of 15: 35\n",
            "8 of 15: 49\n",
            "9 of 15: 69\n",
            "10 of 15: 96\n",
            "11 of 15: 134\n",
            "12 of 15: 186\n",
            "13 of 15: 258\n",
            "14 of 15: 359\n",
            "15 of 15: 499\n"
          ]
        }
      ],
      "source": [
        "## SIMULATE WITH VARYING NUMBER OF FEATURES\n",
        "\n",
        "# of length n_sims, with 4 values in each\n",
        "\n",
        "log_seq = np.linspace(start=math.log10(5), stop=math.log10(500), num=15)\n",
        "k_seq = (10**log_seq).astype(int)\n",
        "print(k_seq)\n",
        "\n",
        "all_history = np.zeros(shape=(len(k_seq), 5))\n",
        "\n",
        "alpha = 0.01\n",
        "\n",
        "\n",
        "for j, k_att in enumerate(k_seq):\n",
        "    print(f\"{j+1} of {len(k_seq)}: {k_att}\")\n",
        "\n",
        "    pop_prob = np.random.uniform(size=k_att)\n",
        "    pop_mean = pop_prob\n",
        "    #pop_mean = 2 * pop_prob - 1.  # If we are recoding to {-1,1} in next function\n",
        "\n",
        "    # Find h_0 distributions\n",
        "    h0Dist_Homer = h0_distribution(test_homer, pop_prob, pop_mean, alpha=alpha)\n",
        "    h0Dist_Dwork = h0_distribution(test_dwork, pop_prob, pop_mean, alpha=alpha)\n",
        "\n",
        "    critical_value_Homer = h0Dist_Homer[\"critical_val\"]\n",
        "    critical_value_Dwork = h0Dist_Dwork[\"critical_val\"]\n",
        "\n",
        "    temp_history = np.zeros(shape=(n_sims, 4))\n",
        "\n",
        "    for i in range(n_sims):\n",
        "        # Simulate data\n",
        "        h1_dist = synthesize(population_prob=pop_prob, n=n_samples)\n",
        "        h1_sample_mean = h1_dist.mean(axis=0)\n",
        "        alice = h1_dist[0]\n",
        "        h0_dist = synthesize(population_prob=pop_prob, n=n_samples)\n",
        "        h0_sample_mean = h0_dist.mean(axis=0)\n",
        "\n",
        "        #referent = synthesize(population_prob=pop_prob, n=1)[0]\n",
        "\n",
        "        # Store simulated values\n",
        "        temp_history[i, :] = [\n",
        "            # homer statistics\n",
        "            test_homer(alice=alice, sample_mean=h1_sample_mean, population_mean=pop_mean),\n",
        "            test_homer(alice=alice, sample_mean=h0_sample_mean, population_mean=pop_mean),\n",
        "            # dwork statistics\n",
        "            test_dwork(alice=alice, sample_mean=h1_sample_mean, population_mean=pop_mean),\n",
        "            test_dwork(alice=alice, sample_mean=h0_sample_mean, population_mean=pop_mean)\n",
        "            ]\n",
        "\n",
        "    homer_membership_FPR = 1 #fix this\n",
        "    homer_membership_TPR = 1 #fix this\n",
        "\n",
        "    dwork_membership_FPR = 1 #fix this\n",
        "    dwork_membership_TPR = 1 #fix this\n",
        "\n",
        "    all_history[j, :] = [\n",
        "        k_att,\n",
        "        homer_membership_FPR,\n",
        "        homer_membership_TPR,\n",
        "        dwork_membership_FPR,\n",
        "        dwork_membership_TPR\n",
        "    ]\n"
      ]
    },
    {
      "cell_type": "code",
      "execution_count": null,
      "metadata": {
        "cell_id": "bec81a60-9cdd-4a6b-b473-43d74f359061",
        "deepnote_cell_type": "code",
        "deepnote_output_heights": [
          280,
          254,
          250
        ],
        "deepnote_to_be_reexecuted": false,
        "execution_millis": 252,
        "execution_start": 1643863787097,
        "source_hash": "fe7a8858",
        "tags": [],
        "pycharm": {
          "name": "#%%\n"
        },
        "id": "qDNV67Nf9NgM"
      },
      "outputs": [],
      "source": [
        "plt.plot(all_history[0:len(k_seq),0], all_history[0:len(k_seq),1], color=\"red\")\n",
        "plt.plot(all_history[0:len(k_seq),0], all_history[0:len(k_seq),2], color=\"blue\")\n",
        "plt.plot(all_history[0:len(k_seq),0], all_history[0:len(k_seq),3], color=\"purple\")\n",
        "plt.plot(all_history[0:len(k_seq),0], all_history[0:len(k_seq),4], color=\"green\")\n",
        "\n",
        "plt.xlabel(\"Number of Attributes\")\n",
        "plt.ylabel(\"Membership Success Rate\")\n",
        "plt.title(\"Success over increasing attribute size\")\n",
        "plt.show()"
      ]
    }
  ],
  "metadata": {
    "deepnote": {
      "is_reactive": false
    },
    "deepnote_execution_queue": [],
    "deepnote_notebook_id": "b7353f29-ce56-41b1-bce5-f7fb8bbd86be",
    "kernelspec": {
      "display_name": "Python 3",
      "language": "python",
      "name": "python3"
    },
    "language_info": {
      "codemirror_mode": {
        "name": "ipython",
        "version": 3
      },
      "file_extension": ".py",
      "mimetype": "text/x-python",
      "name": "python",
      "nbconvert_exporter": "python",
      "pygments_lexer": "ipython3",
      "version": "3.7.1"
    },
    "colab": {
      "provenance": []
    }
  },
  "nbformat": 4,
  "nbformat_minor": 0
}